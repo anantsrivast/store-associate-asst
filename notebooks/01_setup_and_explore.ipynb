# ============================================================================
# FILE: notebooks/01_setup_and_explore.ipynb
# DESCRIPTION: Interactive tutorial notebook
# ============================================================================
"""{
 "cells": [
  {
   "cell_type": "markdown",
   "metadata": {},
   "source": [
    "# Store Associate Assistant - Setup and Exploration\n",
    "\n",
    "This notebook guides you through setting up and exploring the memory system."
   ]
  },
  {
   "cell_type": "markdown",
   "metadata": {},
   "source": [
    "## 1. Setup\n",
    "\n",
    "First, let's import the necessary modules and verify our setup."
   ]
  },
  {
   "cell_type": "code",
   "execution_count": null,
   "metadata": {},
   "outputs": [],
   "source": [
    "import sys\n",
    "sys.path.append('..')\n",
    "\n",
    "from src.config import config\n",
    "from src.database.mongodb_client import db_manager\n",
    "from src.agent.graph import StoreAssistantAgent\n",
    "\n",
    "print('✓ Imports successful')\n",
    "print(f'Database: {config.mongodb.db_name}')\n",
    "print(f'LLM Model: {config.llm.model}')"
   ]
  },
  {
   "cell_type": "markdown",
   "metadata": {},
   "source": [
    "## 2. Check Data\n",
    "\n",
    "Let's verify that we have data in our database."
   ]
  },
  {
   "cell_type": "code",
   "execution_count": null,
   "metadata": {},
   "outputs": [],
   "source": [
    "# Count documents in each collection\n",
    "customers_count = db_manager.get_collection('customers').count_documents({})\n",
    "products_count = db_manager.get_collection('products').count_documents({})\n",
    "purchases_count = db_manager.get_collection('purchases').count_documents({})\n",
    "\n",
    "print(f'Customers: {customers_count}')\n",
    "print(f'Products: {products_count}')\n",
    "print(f'Purchases: {purchases_count}')\n",
    "\n",
    "if customers_count == 0:\n",
    "    print('\\n⚠️  No data found. Run: python -m src.data.seed_database')"
   ]
  },
  {
   "cell_type": "markdown",
   "metadata": {},
   "source": [
    "## 3. Explore a Customer\n",
    "\n",
    "Let's look at a customer and their memories."
   ]
  },
  {
   "cell_type": "code",
   "execution_count": null,
   "metadata": {},
   "outputs": [],
   "source": [
    "# Get first customer\n",
    "customer = db_manager.get_collection('customers').find_one({})\n",
    "print(f\"Customer: {customer['name']}\")\n",
    "print(f\"ID: {customer['customer_id']}\")\n",
    "print(f\"Loyalty: {customer['loyalty_tier']}\")\n",
    "\n",
    "# Get their memories\n",
    "store = db_manager.get_store()\n",
    "preferences = store.search(\n",
    "    namespace_prefix=('customers', customer['customer_id'], 'preferences'),\n",
    "    limit=10\n",
    ")\n",
    "\n",
    "print(f\"\\nPreferences: {len(preferences)}\")\n",
    "for pref in preferences:\n",
    "    print(f\"  - {pref.value.get('preference_type')}: {pref.value.get('value')}\")"
   ]
  },
  {
   "cell_type": "markdown",
   "metadata": {},
   "source": [
    "## 4. Test the Agent\n",
    "\n",
    "Let's have a conversation with the agent."
   ]
  },
  {
   "cell_type": "code",
   "execution_count": null,
   "metadata": {},
   "outputs": [],
   "source": [
    "agent = StoreAssistantAgent()\n",
    "customer_id = customer['customer_id']\n",
    "thread_id = 'test_thread_1'\n",
    "\n",
    "# First message\n",
    "response1 = agent.chat(\n",
    "    customer_id=customer_id,\n",
    "    message=\"Hi, I'm looking for running shoes\",\n",
    "    thread_id=thread_id\n",
    ")\n",
    "\n",
    "print('User: Hi, I\\'m looking for running shoes')\n",
    "print(f'Agent: {response1}')"
   ]
  },
  {
   "cell_type": "markdown",
   "metadata": {},
   "source": [
    "## 5. Continue Conversation"
   ]
  },
  {
   "cell_type": "code",
   "execution_count": null,
   "metadata": {},
   "outputs": [],
   "source": [
    "response2 = agent.chat(\n",
    "    customer_id=customer_id,\n",
    "    message=\"I need size 8\",\n",
    "    thread_id=thread_id\n",
    ")\n",
    "\n",
    "print('User: I need size 8')\n",
    "print(f'Agent: {response2}')"
   ]
  },
  {
   "cell_type": "markdown",
   "metadata": {},
   "source": [
    "## 6. Check Extracted Memories\n",
    "\n",
    "Let's see what memories were extracted during the conversation."
   ]
  },
  {
   "cell_type": "code",
   "execution_count": null,
   "metadata": {},
   "outputs": [],
   "source": [
    "# Refresh preferences\n",
    "new_preferences = store.search(\n",
    "    namespace_prefix=('customers', customer_id, 'preferences'),\n",
    "    limit=10\n",
    ")\n",
    "\n",
    "print('Updated Preferences:')\n",
    "for pref in new_preferences:\n",
    "    print(f\"  - {pref.value.get('preference_type')}: {pref.value.get('value')}\")"
   ]
  }
 ],
 "metadata": {
  "kernelspec": {
   "display_name": "Python 3",
   "language": "python",
   "name": "python3"
  },
  "language_info": {
   "name": "python",
   "version": "3.11.0"
  }
 },
 "nbformat": 4,
 "nbformat_minor": 4
}
"""
